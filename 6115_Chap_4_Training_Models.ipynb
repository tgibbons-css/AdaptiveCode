{
  "nbformat": 4,
  "nbformat_minor": 0,
  "metadata": {
    "colab": {
      "name": "6115 Chap 4: Training Models.ipynb",
      "provenance": [],
      "collapsed_sections": [
        "VXHyM5XQz6G8",
        "B70x3Ueja5k8",
        "5TxpTKZGzdJ-",
        "fa2JObGFztNh"
      ],
      "include_colab_link": true
    },
    "kernelspec": {
      "name": "python3",
      "display_name": "Python 3"
    }
  },
  "cells": [
    {
      "cell_type": "markdown",
      "metadata": {
        "id": "view-in-github",
        "colab_type": "text"
      },
      "source": [
        "<a href=\"https://colab.research.google.com/github/tgibbons-css/AdaptiveCode/blob/master/6115_Chap_4_Training_Models.ipynb\" target=\"_parent\"><img src=\"https://colab.research.google.com/assets/colab-badge.svg\" alt=\"Open In Colab\"/></a>"
      ]
    },
    {
      "cell_type": "markdown",
      "metadata": {
        "id": "UcP0RHTjWP1q",
        "colab_type": "text"
      },
      "source": [
        "#Chapter 4: Training Models\n",
        "\n",
        "Use this notebook as the starting point for the Practice activities.\n",
        "\n",
        "## Writeup\n",
        "\n",
        "Use the [ Unit 1 Writeup](https://docs.google.com/document/d/1vOh8o9pSkUzLklFNhne4deMeHNyVBpeotbXCXk7BvTs/copy) to answer the questions posed in this notebook\n",
        "\n",
        "\n",
        "Watch the [Chapter 4 Notebook Walkthough Video by Tom](https://www.youtube.com/watch?v=cjmgRHytv9k)\n"
      ]
    },
    {
      "cell_type": "code",
      "metadata": {
        "id": "aTMwX-opWVZ7",
        "colab_type": "code",
        "outputId": "32924738-1976-4085-fe01-a767e74a1e65",
        "colab": {
          "base_uri": "https://localhost:8080/",
          "height": 321
        }
      },
      "source": [
        "# Display video link below\n",
        "from IPython.lib.display import YouTubeVideo\n",
        "YouTubeVideo('cjmgRHytv9k')"
      ],
      "execution_count": 0,
      "outputs": [
        {
          "output_type": "execute_result",
          "data": {
            "text/html": [
              "\n",
              "        <iframe\n",
              "            width=\"400\"\n",
              "            height=\"300\"\n",
              "            src=\"https://www.youtube.com/embed/cjmgRHytv9k\"\n",
              "            frameborder=\"0\"\n",
              "            allowfullscreen\n",
              "        ></iframe>\n",
              "        "
            ],
            "text/plain": [
              "<IPython.lib.display.YouTubeVideo at 0x7f3ec87459e8>"
            ],
            "image/jpeg": "[encoded data removed]"
          },
          "metadata": {
            "tags": []
          },
          "execution_count": 1
        }
      ]
    },
    {
      "cell_type": "markdown",
      "metadata": {
        "id": "tdm6o-zXadw9",
        "colab_type": "text"
      },
      "source": [
        "# Training Models\n",
        "We will try out a couple traditional regression and classification models that you may have covered in earlier classes.\n",
        "- K-Nearest Neighbors *(actually mentioned in Chapter 1)*\n",
        "- Linear Regression\n",
        "- Logistics Regression\n",
        "\n",
        "In Chapters 5 and 6 we will compare these methods to:\n",
        "- Support Vector Machines (SVM) \n",
        "- Decision Trees \n",
        "    \n",
        "\n",
        "    "
      ]
    },
    {
      "cell_type": "markdown",
      "metadata": {
        "id": "0OF5TNdHWQua",
        "colab_type": "text"
      },
      "source": [
        "## Iris Flower Dataset\n",
        "\n",
        "*Note: This description comes from [Google's Custom Training Walkthroughs](https://www.tensorflow.org/tutorials/eager/custom_training_walkthrough).*\n",
        "\n",
        "Imagine you are a botanist seeking an automated way to categorize each Iris flower you find. Machine learning provides many algorithms to classify flowers statistically. For instance, a sophisticated machine learning program could classify flowers based on photographs. Our ambitions are more modest—we're going to classify Iris flowers based on the length and width measurements of their [sepals](https://en.wikipedia.org/wiki/Sepal) and [petals](https://en.wikipedia.org/wiki/Petal).\n",
        "\n",
        "The Iris genus entails about 300 species, but our program will only classify the following three:\n",
        "\n",
        "* Iris setosa\n",
        "* Iris virginica\n",
        "* Iris versicolor\n",
        "\n",
        "<table>\n",
        "  <tr><td>\n",
        "    <img src=\"https://www.tensorflow.org/images/iris_three_species.jpg\"\n",
        "         alt=\"Petal geometry compared for three iris species: Iris setosa, Iris virginica, and Iris versicolor\">\n",
        "  </td></tr>\n",
        "  <tr><td align=\"center\">\n",
        "    <b>Figure 1.</b> <a href=\"https://commons.wikimedia.org/w/index.php?curid=170298\">Iris setosa</a> (by <a href=\"https://commons.wikimedia.org/wiki/User:Radomil\">Radomil</a>, CC BY-SA 3.0), <a href=\"https://commons.wikimedia.org/w/index.php?curid=248095\">Iris versicolor</a>, (by <a href=\"https://commons.wikimedia.org/wiki/User:Dlanglois\">Dlanglois</a>, CC BY-SA 3.0), and <a href=\"https://www.flickr.com/photos/33397993@N05/3352169862\">Iris virginica</a> (by <a href=\"https://www.flickr.com/photos/33397993@N05\">Frank Mayfield</a>, CC BY-SA 2.0).<br/>&nbsp;\n",
        "  </td></tr>\n",
        "</table>\n",
        "\n",
        "Fortunately, someone has already created a [data set of 120 Iris flowers](https://en.wikipedia.org/wiki/Iris_flower_data_set) with the sepal and petal measurements. This is a classic dataset that is popular for beginner machine learning classification problems. Flower measurements provided are:\n",
        "- Sepal Length \t\n",
        "- Sepal Width\t\n",
        "- Petal Length\t\n",
        "- Petal Width\n",
        "\n"
      ]
    },
    {
      "cell_type": "markdown",
      "metadata": {
        "id": "VXHyM5XQz6G8",
        "colab_type": "text"
      },
      "source": [
        "# Section 4.0: Set up libraries and training data\n",
        "=== *You must run this section to set up things for any of the sections below * ==="
      ]
    },
    {
      "cell_type": "markdown",
      "metadata": {
        "id": "KmZ4LSJ7XLR9",
        "colab_type": "text"
      },
      "source": [
        "\n",
        "\n",
        "\n",
        "## Setting up Python tools\n",
        "\n",
        "We'll use five libraries for this tutorial: \n",
        "- [pandas](http://pandas.pydata.org/) : dataframes for spreadsheet-like data analysis, reading CSV files, time series\n",
        "- [numpy](http://www.numpy.org/) : for multidimensional data and linear algebra tools\n",
        "- [matplotlib](http://matplotlib.org/) : Simple plotting and graphing\n",
        "- [seaborn](http://stanford.edu/~mwaskom/software/seaborn/) : more advanced graphing\n",
        "- [scikit-learn](https://scikit-learn.org/stable/) : a machine learning python library\n",
        "\n",
        "\n"
      ]
    },
    {
      "cell_type": "code",
      "metadata": {
        "id": "RHAUKyWlWQ9L",
        "colab_type": "code",
        "outputId": "7ac70ccb-5705-4bde-9401-d76e9b3ff71f",
        "colab": {
          "base_uri": "https://localhost:8080/",
          "height": 88
        }
      },
      "source": [
        "# First, we'll import pandas and numpy, two data processing libraries\n",
        "import pandas as pd\n",
        "import numpy as np\n",
        "\n",
        "# We'll also import seaborn and matplot, twp Python graphing libraries\n",
        "import seaborn as sns\n",
        "import matplotlib.pyplot as plt\n",
        "#sns.set(style=\"white\", color_codes=True)\n",
        "\n",
        "# We'll also import libraries from scikit-learn\n",
        "from sklearn import datasets\n",
        "from sklearn.neighbors import KNeighborsClassifier\n",
        "from sklearn.linear_model import LinearRegression\n",
        "from sklearn.linear_model import LogisticRegression\n",
        "from sklearn.metrics import mean_squared_error, r2_score\n",
        "from sklearn.model_selection import train_test_split\n",
        "\n",
        "# We will turn off some warns in this notebook to make it easier to read for new students\n",
        "import warnings\n",
        "warnings.filterwarnings('ignore')\n",
        "\n",
        "print (\"Libraries imported\")"
      ],
      "execution_count": 0,
      "outputs": [
        {
          "output_type": "stream",
          "text": [
            "/usr/local/lib/python3.6/dist-packages/statsmodels/tools/_testing.py:19: FutureWarning: pandas.util.testing is deprecated. Use the functions in the public API at pandas.testing instead.\n",
            "  import pandas.util.testing as tm\n"
          ],
          "name": "stderr"
        },
        {
          "output_type": "stream",
          "text": [
            "Libraries imported\n"
          ],
          "name": "stdout"
        }
      ]
    },
    {
      "cell_type": "code",
      "metadata": {
        "id": "OrpardsGNdTT",
        "colab_type": "code",
        "outputId": "ff81833e-c68a-4082-f06f-9cce1a1b48fc",
        "colab": {
          "base_uri": "https://localhost:8080/",
          "height": 34
        }
      },
      "source": [
        "print (\"Hello World\")"
      ],
      "execution_count": 0,
      "outputs": [
        {
          "output_type": "stream",
          "text": [
            "Hello World\n"
          ],
          "name": "stdout"
        }
      ]
    },
    {
      "cell_type": "markdown",
      "metadata": {
        "id": "Vz1Qt8p_U4g2",
        "colab_type": "text"
      },
      "source": [
        "## Read in the Iris flower data\n",
        "The Iris flower data is read in from a file stored on the internet.\n",
        "<p>\n",
        "It is stored in a Pandas DataFrame which is similar to an internal spreadsheet in that the data is stored in rows and columns."
      ]
    },
    {
      "cell_type": "code",
      "metadata": {
        "id": "Zw-0pDmtWRAN",
        "colab_type": "code",
        "colab": {}
      },
      "source": [
        "# Read in the data file from stored in a raw file in GitHub\n",
        "url = 'https://raw.githubusercontent.com/CIS3115-Machine-Learning-Scholastica/CIS3115ML-Units3and4/master/Iris.csv'\n",
        "iris = pd.read_csv(url)\n",
        "# Set the Id column as the index since it is unique for each flower\n",
        "iris.set_index('Id', inplace=True)"
      ],
      "execution_count": 0,
      "outputs": []
    },
    {
      "cell_type": "code",
      "metadata": {
        "id": "1OtgWe9yWRDZ",
        "colab_type": "code",
        "outputId": "8b7454dd-fc9f-4c55-929f-9aeb1b4e8c8b",
        "colab": {
          "base_uri": "https://localhost:8080/",
          "height": 235
        }
      },
      "source": [
        "# Display the first 5 flowers to make sure the data was read in\n",
        "iris.head(5)"
      ],
      "execution_count": 0,
      "outputs": [
        {
          "output_type": "execute_result",
          "data": {
            "text/html": [
              "<div>\n",
              "<style scoped>\n",
              "    .dataframe tbody tr th:only-of-type {\n",
              "        vertical-align: middle;\n",
              "    }\n",
              "\n",
              "    .dataframe tbody tr th {\n",
              "        vertical-align: top;\n",
              "    }\n",
              "\n",
              "    .dataframe thead th {\n",
              "        text-align: right;\n",
              "    }\n",
              "</style>\n",
              "<table border=\"1\" class=\"dataframe\">\n",
              "  <thead>\n",
              "    <tr style=\"text-align: right;\">\n",
              "      <th></th>\n",
              "      <th>SepalLengthCm</th>\n",
              "      <th>SepalWidthCm</th>\n",
              "      <th>PetalLengthCm</th>\n",
              "      <th>PetalWidthCm</th>\n",
              "      <th>Species</th>\n",
              "    </tr>\n",
              "    <tr>\n",
              "      <th>Id</th>\n",
              "      <th></th>\n",
              "      <th></th>\n",
              "      <th></th>\n",
              "      <th></th>\n",
              "      <th></th>\n",
              "    </tr>\n",
              "  </thead>\n",
              "  <tbody>\n",
              "    <tr>\n",
              "      <th>1</th>\n",
              "      <td>5.1</td>\n",
              "      <td>3.5</td>\n",
              "      <td>1.4</td>\n",
              "      <td>0.2</td>\n",
              "      <td>Iris-setosa</td>\n",
              "    </tr>\n",
              "    <tr>\n",
              "      <th>2</th>\n",
              "      <td>4.9</td>\n",
              "      <td>3.0</td>\n",
              "      <td>1.4</td>\n",
              "      <td>0.2</td>\n",
              "      <td>Iris-setosa</td>\n",
              "    </tr>\n",
              "    <tr>\n",
              "      <th>3</th>\n",
              "      <td>4.7</td>\n",
              "      <td>3.2</td>\n",
              "      <td>1.3</td>\n",
              "      <td>0.2</td>\n",
              "      <td>Iris-setosa</td>\n",
              "    </tr>\n",
              "    <tr>\n",
              "      <th>4</th>\n",
              "      <td>4.6</td>\n",
              "      <td>3.1</td>\n",
              "      <td>1.5</td>\n",
              "      <td>0.2</td>\n",
              "      <td>Iris-setosa</td>\n",
              "    </tr>\n",
              "    <tr>\n",
              "      <th>5</th>\n",
              "      <td>5.0</td>\n",
              "      <td>3.6</td>\n",
              "      <td>1.4</td>\n",
              "      <td>0.2</td>\n",
              "      <td>Iris-setosa</td>\n",
              "    </tr>\n",
              "  </tbody>\n",
              "</table>\n",
              "</div>"
            ],
            "text/plain": [
              "    SepalLengthCm  SepalWidthCm  PetalLengthCm  PetalWidthCm      Species\n",
              "Id                                                                       \n",
              "1             5.1           3.5            1.4           0.2  Iris-setosa\n",
              "2             4.9           3.0            1.4           0.2  Iris-setosa\n",
              "3             4.7           3.2            1.3           0.2  Iris-setosa\n",
              "4             4.6           3.1            1.5           0.2  Iris-setosa\n",
              "5             5.0           3.6            1.4           0.2  Iris-setosa"
            ]
          },
          "metadata": {
            "tags": []
          },
          "execution_count": 4
        }
      ]
    },
    {
      "cell_type": "markdown",
      "metadata": {
        "id": "B70x3Ueja5k8",
        "colab_type": "text"
      },
      "source": [
        "# Section 4.1: Linear Regression\n",
        "*Remember, you must run the code in Section 0 before running this code.*\n"
      ]
    },
    {
      "cell_type": "markdown",
      "metadata": {
        "id": "ezf4hyjTbCUm",
        "colab_type": "text"
      },
      "source": [
        "## Linear Regression \n",
        "\n",
        "The textbook coverage of linear regression is technical and more than we need to simply apply the model. So, we will simply look at applying linear regression to predict flower measurements using the iris dataset.\n",
        "\n",
        "First we will graph the petal length against the sepal length to see how they are related."
      ]
    },
    {
      "cell_type": "code",
      "metadata": {
        "id": "CppX6-esdSKP",
        "colab_type": "code",
        "outputId": "651ee58e-b427-4932-95c3-856d7268702d",
        "colab": {
          "base_uri": "https://localhost:8080/",
          "height": 386
        }
      },
      "source": [
        "sns.lmplot(x='PetalLengthCm', y='SepalLengthCm', data=iris, scatter_kws={'alpha':0.5}) "
      ],
      "execution_count": 0,
      "outputs": [
        {
          "output_type": "execute_result",
          "data": {
            "text/plain": [
              "<seaborn.axisgrid.FacetGrid at 0x7fc7bd0be358>"
            ]
          },
          "metadata": {
            "tags": []
          },
          "execution_count": 32
        },
        {
          "output_type": "display_data",
          "data": {
            "image/png": "[encoded data removed]",
            "text/plain": [
              "<Figure size 360x360 with 1 Axes>"
            ]
          },
          "metadata": {
            "tags": [],
            "needs_background": "light"
          }
        }
      ]
    },
    {
      "cell_type": "markdown",
      "metadata": {
        "id": "JrPjY6REtk3h",
        "colab_type": "text"
      },
      "source": [
        "## Scikit-learn Model\n",
        "Chapter 1 of the textbook (page 21) introduces the [Scikit-learn machine learning library](https://scikit-learn.org/stable/index.html) which we use throughout this course.\n",
        "\n",
        "The code below creates a basic linear regression model using this library. This model uses the petal length to predict the sepal length of iris flowers.\n",
        "\n",
        "## Standard Variable Names: X and y\n",
        "\n",
        "When we use machine learning models, we will generally use these variables\n",
        "- X will be the input data. It is often an array or vector so we use a capital letter. In this case it is the \"PetalLengthCm\"\n",
        "- y will be the output data or what we want to predict. It is often a single value so we use a lowercase letter. In this case the \"SepalLengthCm\""
      ]
    },
    {
      "cell_type": "code",
      "metadata": {
        "id": "mLrCVSYbfEab",
        "colab_type": "code",
        "outputId": "06d3c885-4ebf-430f-fb4a-b4a1c4c397d5",
        "colab": {
          "base_uri": "https://localhost:8080/",
          "height": 68
        }
      },
      "source": [
        "# from sklearn.linear_model import LinearRegression\n",
        "\n",
        "# Analyze the relationship between petal length and sepal length\n",
        "X = iris[['PetalLengthCm']]\n",
        "y = iris[['SepalLengthCm']]\n",
        "# Set up Linear Regression Model uisng the scikit-learn library imported above\n",
        "linearModel = LinearRegression()\n",
        "linearModel.fit(X,y)\n",
        "print (\"The y-intercept of the linear model is: \", linearModel.intercept_)\n",
        "print (\"The slope of the linear model is:\" , linearModel.coef_)\n",
        "\n",
        "# Make a prediction for a flower with a petal length of 3.0 cm\n",
        "X_new = [[3.0]]                            # Petal length of new flower\n",
        "y_predited = linearModel.predict(X_new)    # Predict the sepal length given the pedal length\n",
        "print(\"The model predicts that a flower with a pedal length of \", X_new, \"should have a sepal length of \", y_predited) "
      ],
      "execution_count": 0,
      "outputs": [
        {
          "output_type": "stream",
          "text": [
            "The y-intercept of the linear model is:  [4.30556546]\n",
            "The slope of the linear model is: [[0.4091259]]\n",
            "The model predicts that a flower with a pedal length of  [[3.0]] should have a sepal length of  [[5.53294315]]\n"
          ],
          "name": "stdout"
        }
      ]
    },
    {
      "cell_type": "markdown",
      "metadata": {
        "id": "ISOcXvdsjegc",
        "colab_type": "text"
      },
      "source": [
        "## Measure the performance of the model\n",
        "From Chapter 2, page 39 of *Hands-On Machine Learning with Scikit-Learn, Keras, and TensorFlow*\n",
        "> Your next step is to select a performance measure. A typical performance measure for regression problems is the Root Mean Square Error (RMSE). It gives an idea of how much error the system typically makes in its predictions, with a higher weight for large errors. \n",
        "\n",
        "We will acutally use the Mean Square Error (MSE) instead of the Square Root of Mean Square Error (RMSE). Our models want to keep the error as small as possible.\n",
        "\n",
        "![RMSE graph](https://raw.githubusercontent.com/upxacademy/ML_with_Python/master/images/estimating_coefficients.png?token=AH0Y7JmsKZPG913jPp4rVGpOba5gxbonks5ZFEq7wA%3D%3D)\n",
        "\n",
        "## Creating a Test Set\n",
        "From Chapter 2, page 51 of *Hands-On Machine Learning with Scikit-Learn, Keras, and TensorFlow*\n",
        "> Creating a test set is theoretically simple: pick some instances randomly, typically 20% of the dataset (or less if your dataset is very large), and set them aside:\n",
        "\n",
        "We will also break up the data using 80% of the flower samples for training the model and keeping 20% for testing the model\n",
        "\n",
        "- X_train : The iris pedal length used for training the model\n",
        "- X_test : The iris pedal length used for testing the model\n",
        "- y_train : The iris sepal length used for training the model\n",
        "- y_test : The iris sepal length used for testing the model\n",
        "\n",
        "We will only use the training data for fitting the model and the testing data to evaluate the model\n",
        "\n",
        "---\n",
        "\n",
        "*Some of this code is modeled after SciKit Learns' [Linear Regression Example](https://scikit-learn.org/stable/auto_examples/linear_model/plot_ols.html)*"
      ]
    },
    {
      "cell_type": "code",
      "metadata": {
        "id": "HoNBNgcAf6ql",
        "colab_type": "code",
        "outputId": "7d3c4361-8ae9-4dcb-a16e-bc2436dae092",
        "colab": {
          "base_uri": "https://localhost:8080/",
          "height": 67
        }
      },
      "source": [
        "# from sklearn.linear_model import LinearRegression\n",
        "# from sklearn.model_selection import train_test_split\n",
        "# from sklearn.metrics import mean_squared_error, r2_score\n",
        "\n",
        "# Analyze the relationship between petal length and sepal length\n",
        "X = iris[['PetalLengthCm']]\n",
        "y = iris[['SepalLengthCm']]\n",
        "\n",
        "# Split the data into 80% for training and 20% for testing out the models\n",
        "X_train, X_test, y_train, y_test = train_test_split(X, y, test_size=0.2)\n",
        "\n",
        "# Set up Linear Regression Model uisng the scikit-learn library imported above\n",
        "linearModel = LinearRegression()\n",
        "linearModel.fit(X_train,y_train)\n",
        "print (\"The y-intercept of the linear model is: \", linearModel.intercept_)\n",
        "print (\"The slope of the linear model is:\" , linearModel.coef_)\n",
        "\n",
        "# Make predictions using the testing set\n",
        "y_predicted = linearModel.predict(X_test)\n",
        "\n",
        "# The mean squared error\n",
        "print(\"Mean squared error: %.2f\" % mean_squared_error(y_test, y_predicted))\n"
      ],
      "execution_count": 0,
      "outputs": [
        {
          "output_type": "stream",
          "text": [
            "The y-intercept of the linear model is:  [4.29888525]\n",
            "The slope of the linear model is: [[0.41056266]]\n",
            "Mean squared error: 0.13\n"
          ],
          "name": "stdout"
        }
      ]
    },
    {
      "cell_type": "markdown",
      "metadata": {
        "id": "TlOH9ro3QD_n",
        "colab_type": "text"
      },
      "source": [
        "## Task 4.1: Mean Squared Error\n",
        "\n",
        "---\n",
        "Answer the following questions in the [Unit 1 Writeup](https://docs.google.com/document/d/1vOh8o9pSkUzLklFNhne4deMeHNyVBpeotbXCXk7BvTs/copy). *Remember, you may have already created your own copy of the writup, so use that.*\n",
        "\n",
        "\n",
        "**Question 4.1.1:** What Mean Square Error did you model report?\n",
        "\n",
        "**Question 4.1.2:** Find a clear definition of Mean Square Error or Root Mean Square Error (RMSE) and give it, along with a URL to where you found it. \n",
        "\n",
        "**Question 4.1.3:** Do we want a model with a low Mean Square Error or a high Mean Square Error? Why?\n",
        "\n"
      ]
    },
    {
      "cell_type": "markdown",
      "metadata": {
        "id": "wXCqIaSBJ445",
        "colab_type": "text"
      },
      "source": [
        "## Share to Discussion Area\n",
        "\n",
        "I encourage you to share any questions or comments related to this chapter to the course discussion area.\n",
        "\n",
        "Remember you must post something to the discussion area in each unit. "
      ]
    },
    {
      "cell_type": "markdown",
      "metadata": {
        "id": "LBEAm3Y11CAN",
        "colab_type": "text"
      },
      "source": [
        "## Visualizing our predictions\n",
        "\n",
        "The graph below shows the training data in green which was used the create the model. \n",
        "\n",
        "This allowed us to create a linear model shown as a blue line.\n",
        "\n",
        "The training data in red was used to evaluate our model."
      ]
    },
    {
      "cell_type": "code",
      "metadata": {
        "id": "g7l_INSSkRk4",
        "colab_type": "code",
        "outputId": "9de26b4e-8c04-44e1-8e64-0be62ef45be4",
        "colab": {
          "base_uri": "https://localhost:8080/",
          "height": 265
        }
      },
      "source": [
        "# Plot outputs\n",
        "plt.scatter(X_train, y_train,  color='green')\n",
        "plt.scatter(X_test, y_test,  color='red')\n",
        "plt.plot(X_test, y_predicted, color='blue', linewidth=3)\n",
        "plt.show()"
      ],
      "execution_count": 0,
      "outputs": [
        {
          "output_type": "display_data",
          "data": {
            "image/png": "[encoded data removed]",
            "text/plain": [
              "<Figure size 432x288 with 1 Axes>"
            ]
          },
          "metadata": {
            "tags": [],
            "needs_background": "light"
          }
        }
      ]
    },
    {
      "cell_type": "markdown",
      "metadata": {
        "id": "FD6Mx4Zu2jK4",
        "colab_type": "text"
      },
      "source": [
        "## Gradient Descent\n",
        "From Chapter 2, page 118 of *Hands-On Machine Learning with Scikit-Learn, Keras, and TensorFlow*\n",
        "> Gradient Descent is a generic optimization algorithm capable of finding optimal solutions to a wide range of problems. The general idea of Gradient Descent is to tweak parameters iteratively in order to minimize a cost function.\n",
        "\n",
        "The textbook covers gradient descent in this chapter, but we will discuss it more in later chapters when we are working with more complicated training methods. For now, just remember that gradient descent is a way to find good values for parameters in a model by slowly tweeking the parameters, making them better each time. The **learning rate** sets how much the parameters are tweeked each time. In the case of linear regression, the two parameters trying to determine are the y-intercept and the slope of the line for our model.\n",
        "\n",
        "- Batch Gradient Descent (page 121): It is faster to determine how much to tweek the parameters if you consider all the training data points at once. While this is faster, it can require a lot of RAM to hold all the data in memory at once.\n",
        "- Stochastic Gradient Descent (page 124): You can tweek the parameters by looking at one training example at a time. While this requires little RAM, it takes longer since many calculations are repeated.\n",
        "- Mini-batch Gradient Descent (page 127): All training algorithms we will see use a sub-set of the training data to tweek the parameters. Generally we will want the batch size as large as possible given the memory of our computer.\n",
        "\n",
        ">  Instead of computing the gradients based on the full training set\n",
        "(as in Batch GD) or based on just one instance (as in Stochastic GD), Mini-batch GD computes the gradients on small random sets of instances called mini-batches. (Page 127)\n"
      ]
    },
    {
      "cell_type": "markdown",
      "metadata": {
        "id": "5TxpTKZGzdJ-",
        "colab_type": "text"
      },
      "source": [
        "# Section 4.2: Logistics Regresion and Classification\n",
        "*Remember, you must run the code in Section 0 before running this code.*\n"
      ]
    },
    {
      "cell_type": "markdown",
      "metadata": {
        "id": "Pi9twYRt7C20",
        "colab_type": "text"
      },
      "source": [
        "## Skipping Polynomial Regression and other methods (page 128-140)\n",
        "The textbook discusses using the adding in the squares or cubes of features and then using linear regression--something called polynomial regression. It also discusses some other forms of regression. We will skip these method in order to focus on methods more commonly used in machine learning.\n",
        "\n",
        "## Logistic Regression\n",
        "From Chapter 2, page 142 of *Hands-On Machine Learning with Scikit-Learn, Keras, and TensorFlow*\n",
        ">As we discussed in Chapter 1, some regression algorithms can be used for classification (and vice versa). Logistic Regression (also called Logit Regression) is commonly used to estimate the probability that an instance belongs to a particular class.\n",
        "\n",
        "We will turn again to our iris flower dataset\n",
        "\n",
        "> Let’s try to build a classifier to detect the Iris virginica type based only on the petal width feature. (page 146)\n",
        "\n",
        "First, we will set out training inputs to just the PetalWidthCm values and for the output we will predict 1 if the iris is a Iris-virginica and 0 otherwise. *The code for setting up X and y are a little different than the book since we are using a different version of the iris dataset which has the data formated a little differently.*\n",
        "\n",
        "Then we simply create a Logistic Regression model and train it on the data. Once trained we can use it to make predictions. Given the pedal width of a flower it will predict if the iris is a Iris-virginica or not.\n"
      ]
    },
    {
      "cell_type": "code",
      "metadata": {
        "id": "dWD5fXDP65By",
        "colab_type": "code",
        "outputId": "42ae8c9e-627b-4c2c-a8f9-9272c7982be6",
        "colab": {
          "base_uri": "https://localhost:8080/",
          "height": 333
        }
      },
      "source": [
        "# from sklearn.linear_model import LogisticRegression\n",
        "# from sklearn.model_selection import train_test_split\n",
        "# from sklearn.metrics import mean_squared_error, r2_score\n",
        "\n",
        "# Analyze the relationship between petal length and sepal length\n",
        "X = iris[['PetalWidthCm']]\n",
        "y_strings = iris[['Species']]\n",
        "y = (iris[['Species']] == \"Iris-virginica\").astype(np.int) \n",
        "\n",
        "# Split the data into 80% for training and 20% for testing out the models\n",
        "X_train, X_test, y_train, y_test = train_test_split(X, y, test_size=0.2)\n",
        "\n",
        "# Setup the Logistic Regression Model uisng the scikit-learn library imported above\n",
        "logisticsModel = LogisticRegression()\n",
        "logisticsModel.fit(X_train,y_train)\n",
        "\n",
        "print (\"Plot the probablility determined by the model of a flower being an Iris virginica based on its petal width \")\n",
        "X_new = np.linspace(0, 3, 1000).reshape(-1, 1)\n",
        "y_proba = logisticsModel.predict_proba(X_new)\n",
        "plt.plot(X_new, y_proba[:, 1], \"g-\", label=\"Iris virginica\")\n",
        "plt.plot(X_new, y_proba[:, 0], \"b--\", label=\"Not Iris virginica\")\n",
        "\n",
        "# Make predictions using the testing set\n",
        "y_predicted = logisticsModel.predict(X_test)\n",
        "\n",
        "# The mean squared error\n",
        "print(\"Mean squared error: %.2f\" % mean_squared_error(y_test, y_predicted))\n",
        "\n",
        "predict_results = logisticsModel.predict([[1.7], [1.5]])\n",
        "print(\"An iris with a petal width of 1.7 should be a Iris virginica (1=Iris viginica) : \", predict_results[0] )\n",
        "print(\"An iris with a petal width of 1.5 should not be a Iris virginica (1=Iris viginica) : \", predict_results[1] )"
      ],
      "execution_count": 0,
      "outputs": [
        {
          "output_type": "stream",
          "text": [
            "Plot the probablility determined by the model of a flower being an Iris virginica based on its petal width \n",
            "Mean squared error: 0.07\n",
            "An iris with a petal width of 1.7 should be a Iris virginica (1=Iris viginica) :  1\n",
            "An iris with a petal width of 1.5 should not be a Iris virginica (1=Iris viginica) :  0\n"
          ],
          "name": "stdout"
        },
        {
          "output_type": "display_data",
          "data": {
            "image/png": "[encoded data removed]",
            "text/plain": [
              "<Figure size 432x288 with 1 Axes>"
            ]
          },
          "metadata": {
            "tags": [],
            "needs_background": "light"
          }
        }
      ]
    },
    {
      "cell_type": "markdown",
      "metadata": {
        "id": "e8YfuKISXZS3",
        "colab_type": "text"
      },
      "source": [
        "## Softmax Regression\n",
        "> The Logistic Regression model can be generalized to support multiple classes directly, without having to train and combine multiple binary classifiers (as discussed in Chapter 3). This is called Softmax Regression, or Multinomial Logistic Regression. (page 148)\n",
        "\n",
        "While the textbook only uses two features for this prediction, we will use all four measurements for input to our model. The output will be a prediction of what species the iris is.\n",
        "\n",
        "The code then uses the scikit-learn score(X_test, y_test) method to compare the categories predicted by the model with the actual cateagoies giving in y_test. The result is a precent where 1.0 means the model correctly identified 100% of the test flowers where 0.95 means the model correctly identified 95% of the test flowers."
      ]
    },
    {
      "cell_type": "code",
      "metadata": {
        "id": "fQf-M1NbT9rD",
        "colab_type": "code",
        "outputId": "d754a8bf-893a-4779-8863-60387980a1c2",
        "colab": {
          "base_uri": "https://localhost:8080/",
          "height": 51
        }
      },
      "source": [
        "# from sklearn.linear_model import LogisticRegression\n",
        "# from sklearn.model_selection import train_test_split\n",
        "# from sklearn.metrics import mean_squared_error, r2_score\n",
        "\n",
        "# Use the first four collumn for input into the model and the final iris label as output for training\n",
        "# X = iris.iloc[:, 0:4]\n",
        "# y = iris.iloc[:, 4]\n",
        "# A better way to select which columns to use for input and output\n",
        "feature_columns = ['SepalLengthCm', 'SepalWidthCm', 'PetalLengthCm','PetalWidthCm']\n",
        "X = iris[feature_columns].values\n",
        "y = iris['Species'].values  \n",
        "\n",
        "# Split the data into 80% for training and 20% for testing out the models\n",
        "X_train, X_test, y_train, y_test = train_test_split(X, y, test_size=0.2)\n",
        "\n",
        "# Setup the Logistic Regression Model uisng the scikit-learn library imported above\n",
        "softmaxRegressionModel = LogisticRegression(multi_class=\"multinomial\",solver=\"lbfgs\", C=10)\n",
        "softmaxRegressionModel.fit(X_train,y_train)\n",
        "\n",
        "# Score the predictions using the testing set\n",
        "score = softmaxRegressionModel.score(X_test, y_test)\n",
        "print (\"The score for this model is \", score)\n",
        "\n",
        "# The parameter order is SepalLengthCm, SepalWidthCm, PetalLengthCm, PetalWidthCm\n",
        "prediction = softmaxRegressionModel.predict([[5.2, 3.3, 1.4, 0.2]])\n",
        "print (\"Predicted iris species is with measurements [5.2, 3.3, 1.4, 0.2] is \", prediction)"
      ],
      "execution_count": 0,
      "outputs": [
        {
          "output_type": "stream",
          "text": [
            "The score for this model is  0.9333333333333333\n",
            "Predicted iris species is with measurements [5.2, 3.3, 1.4, 0.2] is  ['Iris-setosa']\n"
          ],
          "name": "stdout"
        }
      ]
    },
    {
      "cell_type": "markdown",
      "metadata": {
        "id": "33vnpShpSqTN",
        "colab_type": "text"
      },
      "source": [
        "## Task 4.2: Softmax Regression\n",
        "---\n",
        "Answer the following questions in the [Unit 1 Writeup](https://docs.google.com/document/d/1vOh8o9pSkUzLklFNhne4deMeHNyVBpeotbXCXk7BvTs/copy). *Remember, you may have already created your own copy of the writup, so use that.*\n",
        "\n",
        "\n",
        "**Question 4.2.1:** What score did your model report?\n",
        "\n",
        "**Question 4.2.2:** The textbook tries to predict the iris type using only two measurements, while our code above uses all four flower measurements. Do you think a model will generally be more accurate if it has more data to use when classifying?\n"
      ]
    },
    {
      "cell_type": "markdown",
      "metadata": {
        "id": "fa2JObGFztNh",
        "colab_type": "text"
      },
      "source": [
        "#Section 4.3:  K-Nearest Neighbors (KNN)\n",
        "*Remember, you must run the code in Section 0 before running this code.*\n"
      ]
    },
    {
      "cell_type": "markdown",
      "metadata": {
        "id": "fv1DrC0cmjuo",
        "colab_type": "text"
      },
      "source": [
        "\n",
        "*The textbook mentions the K-Nearest Neighbor in Chapter 1 (page 22) of the text. We are including it here since it is a well known algorithm you should be familar with.*\n",
        "\n",
        "K-Nearest Neighbors is a relatively simple classification algorithm. Given a set of labeled data, when a new unknown data point needs to be classified, we find the known points that are closest to it. \n",
        "\n",
        "Let's say we are classifying fruit as either apples or oranges. Assume we measure two parameters for each fruit.\n",
        "- The smoothness as a number between 1 and 10 \n",
        "- Amount of red color as a number between 0 and 25\n",
        "\n",
        "We have a set of fruit we already know are either apples or oranges. When a new fruit arrives we measure its smoothness and red color and compare these values to the known fruit as follows:\n",
        "1. We use the Euclidean distance to calculate how near the new fruit is to every known fruit.\n",
        "1. We find the 3 nearest known fruits. Let us assume they are an Orange, an Apple and another Apple.\n",
        "1. We classify the new fruit based on what is the most common type of neighbor; in this case, it is labeled as an Apple since two of the three neighbors are apples.\n",
        "\n",
        "\n",
        "![KNN Image]( https://raw.githubusercontent.com/CIS3115-Machine-Learning-Scholastica/CIS3115ML-Units3and4/master/K_nearest_neighbors.jpg )\n",
        "\n",
        "In the example above we looked at the 3 nearest neighbors, but we could have just as well looked at the 5 nearest neighbors or the 1 neighbor that was the nearest. In general, we use the term K Nearest Neighbors and assume K can be any whole number.\n",
        "\n",
        "The KNN algorithm works well for small datasets but does not work well on large datasets since it can take a lot of time and memory to compare the new item with every known item in the data set.\n",
        "\n",
        "For another overview see [KNN Classification using Scikit-learn](https://www.datacamp.com/community/tutorials/k-nearest-neighbor-classification-scikit-learn) by Avinash Navlani\n",
        "\n"
      ]
    },
    {
      "cell_type": "markdown",
      "metadata": {
        "id": "_dSQCfftZ-AF",
        "colab_type": "text"
      },
      "source": [
        "## Break up data parts for training and testing\n",
        "\n",
        "We will also break up the data using 80% of the flower samples for training the model and keeping 20% for testing the model\n",
        "\n",
        "- X_train : The iris sizes used for training the model\n",
        "- X_test : The iris sizes used for testing the model\n",
        "- y_train : The species used for training the model\n",
        "- y_test : The species used for testing the model\n",
        "\n",
        "We will only use the training data for fitting the model.\n"
      ]
    },
    {
      "cell_type": "code",
      "metadata": {
        "id": "OqLNbqIzch1o",
        "colab_type": "code",
        "colab": {}
      },
      "source": [
        "# from sklearn.model_selection import train_test_split\n",
        "\n",
        "# Use the first four collumn for input into the model and the final iris label as output for training\n",
        "# X = iris.iloc[:, 0:4]\n",
        "# y = iris.iloc[:, 4]\n",
        "feature_columns = ['SepalLengthCm', 'SepalWidthCm', 'PetalLengthCm','PetalWidthCm']\n",
        "X = iris[feature_columns].values\n",
        "y = iris['Species'].values\n",
        "\n",
        "# Split the data into 80% for training and 20% for testing out the models\n",
        "X_train, X_test, y_train, y_test = train_test_split(X, y.ravel(), test_size=0.2)"
      ],
      "execution_count": 0,
      "outputs": []
    },
    {
      "cell_type": "markdown",
      "metadata": {
        "id": "yk4dqjQMwal8",
        "colab_type": "text"
      },
      "source": [
        "## Task 4.3: KNN on Iris data\n",
        "---\n",
        "Answer the following questions in the [Unit 1 Writeup](https://docs.google.com/document/d/1vOh8o9pSkUzLklFNhne4deMeHNyVBpeotbXCXk7BvTs/copy). *Remember, you may have already created your own copy of the writup, so use that.*\n",
        "\n",
        "\n",
        "**Question 4.3.1:**  The code below runs the KNN algorithm initially with 5 neighbors. Try this code out with different numbers of neighbors and record the results here.\n",
        "\n",
        "Try to get a score as high as you can. A score of 100% or 1.0 means the algorithm is classifying the new data with 100% accuracy.\n",
        "\n",
        "---\n",
        "- Score for 1 Neighbor: \n",
        "- Score for 3 Neighbor:\n",
        "- Score for 5 Neighbor: **0.96** *(Your score might be slightly different)*\n",
        "- Score for 20 Neighbor:\n",
        "- Score for 50 Neighbor:\n",
        "- Score for your choice of Neighbors:\n"
      ]
    },
    {
      "cell_type": "code",
      "metadata": {
        "id": "9l168ErKy-wu",
        "colab_type": "code",
        "colab": {}
      },
      "source": [
        ""
      ],
      "execution_count": 0,
      "outputs": []
    },
    {
      "cell_type": "code",
      "metadata": {
        "id": "BtiqXsUReWfe",
        "colab_type": "code",
        "outputId": "d985b118-f0e3-406c-a627-58128988a7ff",
        "colab": {
          "base_uri": "https://localhost:8080/",
          "height": 34
        }
      },
      "source": [
        "from sklearn.neighbors import KNeighborsClassifier\n",
        "# Set up the K-Nearest neighbor model using the k nearest neighbors. Change the value of n_neighbors\n",
        "knn_model = KNeighborsClassifier(n_neighbors=5)\n",
        "# Train the model on the iris data\n",
        "knn_model.fit(X_train, y_train)\n",
        "score = knn_model.score(X_test, y_test)\n",
        "print (\"The score for this model is \", score)"
      ],
      "execution_count": 0,
      "outputs": [
        {
          "output_type": "stream",
          "text": [
            "The score for this model is  0.9666666666666667\n"
          ],
          "name": "stdout"
        }
      ]
    },
    {
      "cell_type": "markdown",
      "metadata": {
        "id": "xSXdwQJNeXBm",
        "colab_type": "text"
      },
      "source": [
        "##  Prediction\n",
        "Once we have trained or fit the model to the data, we can use it to make predictions.\n",
        "\n",
        "Here we will predict the iris species for a new flower with \n",
        "- SepalLengthCm = 5.2\t\n",
        "- SepalWidthCm = 3.3\n",
        "- PetalLengthCm = 1.4\n",
        "- PetalWidthCm\t= 0.2\n",
        "\n",
        "This should be a Iris-setosa\n"
      ]
    },
    {
      "cell_type": "code",
      "metadata": {
        "id": "PgKbiMMjeWmO",
        "colab_type": "code",
        "outputId": "2919598e-1f13-4e06-9df3-604fc22636ab",
        "colab": {
          "base_uri": "https://localhost:8080/",
          "height": 34
        }
      },
      "source": [
        "# The parameter order is SepalLengthCm, SepalWidthCm, PetalLengthCm, PetalWidthCm\n",
        "\n",
        "prediction = knn_model.predict([[5.2, 3.3, 1.4, 0.2]])\n",
        "\n",
        "print (\"Predicted iris species is \", prediction)\n"
      ],
      "execution_count": 0,
      "outputs": [
        {
          "output_type": "stream",
          "text": [
            "Predicted iris species is  ['Iris-setosa']\n"
          ],
          "name": "stdout"
        }
      ]
    },
    {
      "cell_type": "code",
      "metadata": {
        "id": "hNmZlPcKWv12",
        "colab_type": "code",
        "colab": {}
      },
      "source": [
        ""
      ],
      "execution_count": 0,
      "outputs": []
    }
  ]
}